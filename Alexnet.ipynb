{
  "nbformat": 4,
  "nbformat_minor": 0,
  "metadata": {
    "colab": {
      "name": "Alexnet.ipynb",
      "provenance": [],
      "authorship_tag": "ABX9TyOB1YEHMcmc6xrfOK8k64P9",
      "include_colab_link": true
    },
    "kernelspec": {
      "name": "python3",
      "display_name": "Python 3"
    },
    "language_info": {
      "name": "python"
    },
    "accelerator": "GPU"
  },
  "cells": [
    {
      "cell_type": "markdown",
      "metadata": {
        "id": "view-in-github",
        "colab_type": "text"
      },
      "source": [
        "<a href=\"https://colab.research.google.com/github/farjana791/Thesis_Work/blob/main/Alexnet.ipynb\" target=\"_parent\"><img src=\"https://colab.research.google.com/assets/colab-badge.svg\" alt=\"Open In Colab\"/></a>"
      ]
    },
    {
      "cell_type": "code",
      "metadata": {
        "id": "rfcB9Pu7ZN--"
      },
      "source": [
        "import warnings\n",
        "warnings.filterwarnings(\"ignore\")\n",
        "from keras.models import Sequential\n",
        "from keras.layers import Dense, Activation, Dropout, Flatten, Conv2D, MaxPool2D\n",
        "from keras.layers.normalization import batch_normalization\n",
        "import numpy as np\n",
        "np.random.seed(1000)"
      ],
      "execution_count": null,
      "outputs": []
    },
    {
      "cell_type": "code",
      "metadata": {
        "colab": {
          "base_uri": "https://localhost:8080/"
        },
        "id": "D_wmLxRZs_gA",
        "outputId": "d6d9ddcb-a489-4806-e215-a55fd1a638f7"
      },
      "source": [
        "!pip install -U tensorflow-addons"
      ],
      "execution_count": null,
      "outputs": [
        {
          "output_type": "stream",
          "name": "stdout",
          "text": [
            "Requirement already satisfied: tensorflow-addons in /usr/local/lib/python3.7/dist-packages (0.14.0)\n",
            "Requirement already satisfied: typeguard>=2.7 in /usr/local/lib/python3.7/dist-packages (from tensorflow-addons) (2.7.1)\n"
          ]
        }
      ]
    },
    {
      "cell_type": "code",
      "metadata": {
        "id": "OQRHvzrRtG6b"
      },
      "source": [
        "import tensorflow as tf\n",
        "import tensorflow_addons as tfa"
      ],
      "execution_count": null,
      "outputs": []
    },
    {
      "cell_type": "code",
      "metadata": {
        "colab": {
          "base_uri": "https://localhost:8080/"
        },
        "id": "GuqTJVH0bZbZ",
        "outputId": "04349dad-7870-4bd6-e376-84751f960f74"
      },
      "source": [
        "pip install tflearn "
      ],
      "execution_count": null,
      "outputs": [
        {
          "output_type": "stream",
          "name": "stdout",
          "text": [
            "Requirement already satisfied: tflearn in /usr/local/lib/python3.7/dist-packages (0.5.0)\n",
            "Requirement already satisfied: Pillow in /usr/local/lib/python3.7/dist-packages (from tflearn) (7.1.2)\n",
            "Requirement already satisfied: numpy in /usr/local/lib/python3.7/dist-packages (from tflearn) (1.19.5)\n",
            "Requirement already satisfied: six in /usr/local/lib/python3.7/dist-packages (from tflearn) (1.15.0)\n"
          ]
        }
      ]
    },
    {
      "cell_type": "code",
      "metadata": {
        "id": "MZaWFTlmZYr-"
      },
      "source": [
        "import tflearn.datasets.oxflower17 as oxflower17\n",
        "x , y =oxflower17.load_data(one_hot=True)"
      ],
      "execution_count": null,
      "outputs": []
    },
    {
      "cell_type": "code",
      "metadata": {
        "id": "B_mKLgYYa_vU"
      },
      "source": [
        "model=Sequential()"
      ],
      "execution_count": null,
      "outputs": []
    },
    {
      "cell_type": "code",
      "metadata": {
        "id": "8SZ9AFY6hXW6"
      },
      "source": [
        "input_shape=(224, 224, 3)\n",
        "model.add(Conv2D(filters=96, kernel_size=(11, 11), strides=(4, 4), input_shape=input_shape, padding='same')) #1st convo\n",
        "model.add(Activation('relu'))\n",
        "model.add(MaxPool2D(pool_size=(3,3), strides=(2,2), padding='same'))\n",
        "#tfa.layers.GroupNormalization(groups=5, axis=3),\n",
        "#model.add(batch_normalization())"
      ],
      "execution_count": null,
      "outputs": []
    },
    {
      "cell_type": "code",
      "metadata": {
        "id": "1Tqwc4jBgoj3"
      },
      "source": [
        "model.add(Conv2D(filters=256, kernel_size=(5,5), strides=(1,1), padding='same')) #2nd convo\n",
        "model.add(Activation('relu'))\n",
        "model.add(MaxPool2D(pool_size=(3,3), strides=(2,2), padding='same'))\n",
        "#tfa.layers.GroupNormalization(groups=5, axis=3),\n",
        "#model.add(BatchNormalization())"
      ],
      "execution_count": null,
      "outputs": []
    },
    {
      "cell_type": "code",
      "metadata": {
        "id": "2FLigqfvs8hL"
      },
      "source": [
        ""
      ],
      "execution_count": null,
      "outputs": []
    },
    {
      "cell_type": "code",
      "metadata": {
        "id": "lj_aRpP-gvRy"
      },
      "source": [
        "model.add(Conv2D(filters=384, kernel_size=(3,3), strides=(1,1), padding='same')) #3rd convo\n",
        "model.add(Activation('relu'))\n",
        "#tfa.layers.GroupNormalization(groups=5, axis=3),\n",
        "#model.add(batch_normalization())"
      ],
      "execution_count": null,
      "outputs": []
    },
    {
      "cell_type": "code",
      "metadata": {
        "id": "KoJOGBcGgvTW"
      },
      "source": [
        "model.add(Conv2D(filters=384, kernel_size=(3,3), strides=(1,1), padding='same')) #4th convo\n",
        "model.add(Activation('relu'))\n",
        "#tfa.layers.GroupNormalization(groups=5, axis=3),\n",
        "#model.add(batch_normalization())"
      ],
      "execution_count": null,
      "outputs": []
    },
    {
      "cell_type": "code",
      "metadata": {
        "id": "Y4r0INbTg_P0"
      },
      "source": [
        "model.add(Conv2D(filters=256, kernel_size=(3,3), strides=(1,1), padding='same')) #5th convo\n",
        "model.add(Activation('relu'))\n",
        "model.add(MaxPool2D(pool_size=(3,3), strides=(2,2), padding='same'))\n",
        "#tfa.layers.GroupNormalization(groups=5, axis=3),\n",
        "#model.add(batch_normalization())"
      ],
      "execution_count": null,
      "outputs": []
    },
    {
      "cell_type": "code",
      "metadata": {
        "id": "X0a-Ip7Hg_Rc"
      },
      "source": [
        "model.add(Flatten())\n",
        "model.add(Dense(4096, input_shape=(224*224*3,)))\n",
        "model.add(Activation('relu'))\n",
        "model.add(Dropout(0.4))\n",
        "#tfa.layers.GroupNormalization(groups=5, axis=3),\n",
        "#model.add(batch_normalization())\n",
        "\n",
        "model.add(Dense(4096))\n",
        "model.add(Activation('relu'))\n",
        "model.add(Dropout(0.4))\n",
        "#tfa.layers.GroupNormalization(groups=5, axis=3),\n",
        "#model.add(batch_normalization())\n",
        "\n",
        "model.add(Dense(17))\n",
        "model.add(Activation('softmax'))"
      ],
      "execution_count": null,
      "outputs": []
    },
    {
      "cell_type": "code",
      "metadata": {
        "colab": {
          "base_uri": "https://localhost:8080/"
        },
        "id": "cPX71nI8hF5t",
        "outputId": "56fa8c34-0edb-4f7b-a90f-22ce27b97bce"
      },
      "source": [
        "model.compile(loss='categorical_crossentropy', optimizer='adam', metrics=['accuracy'])\n",
        "\n",
        "model.fit(x, y, batch_size=10, epochs=5, verbose=1, validation_split=0.2, shuffle=True)\n",
        "\n",
        "model.summary()\n",
        "score=model.evaluate(x, y)\n",
        "print('Test Loss:', score[0])\n",
        "print('Test accuracy:', score[1])"
      ],
      "execution_count": null,
      "outputs": [
        {
          "output_type": "stream",
          "name": "stdout",
          "text": [
            "Train on 1088 samples, validate on 272 samples\n",
            "Epoch 1/5\n",
            "1088/1088 [==============================] - 206s 190ms/sample - loss: 3.0736 - acc: 0.0506 - val_loss: 2.8355 - val_acc: 0.0404\n",
            "Epoch 2/5\n",
            "1088/1088 [==============================] - 201s 184ms/sample - loss: 2.8352 - acc: 0.0524 - val_loss: 2.8374 - val_acc: 0.0404\n",
            "Epoch 3/5\n",
            "1088/1088 [==============================] - 200s 184ms/sample - loss: 2.8346 - acc: 0.0496 - val_loss: 2.8377 - val_acc: 0.0368\n",
            "Epoch 4/5\n",
            "1088/1088 [==============================] - 200s 184ms/sample - loss: 2.8338 - acc: 0.0533 - val_loss: 2.8398 - val_acc: 0.0368\n",
            "Epoch 5/5\n",
            "1088/1088 [==============================] - 199s 183ms/sample - loss: 2.8338 - acc: 0.0643 - val_loss: 2.8385 - val_acc: 0.0368\n",
            "Model: \"sequential_1\"\n",
            "_________________________________________________________________\n",
            "Layer (type)                 Output Shape              Param #   \n",
            "=================================================================\n",
            "conv2d_41 (Conv2D)           (None, 56, 56, 96)        34944     \n",
            "_________________________________________________________________\n",
            "activation_21 (Activation)   (None, 56, 56, 96)        0         \n",
            "_________________________________________________________________\n",
            "max_pooling2d_10 (MaxPooling (None, 28, 28, 96)        0         \n",
            "_________________________________________________________________\n",
            "conv2d_42 (Conv2D)           (None, 28, 28, 256)       614656    \n",
            "_________________________________________________________________\n",
            "activation_22 (Activation)   (None, 28, 28, 256)       0         \n",
            "_________________________________________________________________\n",
            "max_pooling2d_11 (MaxPooling (None, 14, 14, 256)       0         \n",
            "_________________________________________________________________\n",
            "conv2d_43 (Conv2D)           (None, 14, 14, 384)       885120    \n",
            "_________________________________________________________________\n",
            "activation_23 (Activation)   (None, 14, 14, 384)       0         \n",
            "_________________________________________________________________\n",
            "conv2d_44 (Conv2D)           (None, 14, 14, 384)       1327488   \n",
            "_________________________________________________________________\n",
            "activation_24 (Activation)   (None, 14, 14, 384)       0         \n",
            "_________________________________________________________________\n",
            "conv2d_45 (Conv2D)           (None, 14, 14, 256)       884992    \n",
            "_________________________________________________________________\n",
            "activation_25 (Activation)   (None, 14, 14, 256)       0         \n",
            "_________________________________________________________________\n",
            "max_pooling2d_12 (MaxPooling (None, 7, 7, 256)         0         \n",
            "_________________________________________________________________\n",
            "flatten_3 (Flatten)          (None, 12544)             0         \n",
            "_________________________________________________________________\n",
            "dense_9 (Dense)              (None, 4096)              51384320  \n",
            "_________________________________________________________________\n",
            "activation_26 (Activation)   (None, 4096)              0         \n",
            "_________________________________________________________________\n",
            "dropout_6 (Dropout)          (None, 4096)              0         \n",
            "_________________________________________________________________\n",
            "dense_10 (Dense)             (None, 4096)              16781312  \n",
            "_________________________________________________________________\n",
            "activation_27 (Activation)   (None, 4096)              0         \n",
            "_________________________________________________________________\n",
            "dropout_7 (Dropout)          (None, 4096)              0         \n",
            "_________________________________________________________________\n",
            "dense_11 (Dense)             (None, 17)                69649     \n",
            "_________________________________________________________________\n",
            "activation_28 (Activation)   (None, 17)                0         \n",
            "=================================================================\n",
            "Total params: 71,982,481\n",
            "Trainable params: 71,982,481\n",
            "Non-trainable params: 0\n",
            "_________________________________________________________________\n",
            "Test Loss: 2.8335814419914693\n",
            "Test accuracy: 0.05882353\n"
          ]
        }
      ]
    },
    {
      "cell_type": "code",
      "metadata": {
        "id": "ybOFZi7UhGGW"
      },
      "source": [
        ""
      ],
      "execution_count": null,
      "outputs": []
    }
  ]
}